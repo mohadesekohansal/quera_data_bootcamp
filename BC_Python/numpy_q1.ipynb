{
 "cells": [
  {
   "cell_type": "code",
   "execution_count": 1,
   "id": "96c45cb9",
   "metadata": {},
   "outputs": [],
   "source": [
    "import numpy as np"
   ]
  },
  {
   "cell_type": "code",
   "execution_count": 2,
   "id": "e7e66885",
   "metadata": {},
   "outputs": [],
   "source": [
    "def replace_odd(arr):\n",
    "    arr[arr%2 == 1] = -1    \n",
    "    return arr"
   ]
  },
  {
   "cell_type": "code",
   "execution_count": 16,
   "id": "c45ec7e5",
   "metadata": {},
   "outputs": [
    {
     "data": {
      "text/plain": [
       "array([[-1, -1,  0, -1],\n",
       "       [-1,  2, -1,  4]])"
      ]
     },
     "execution_count": 16,
     "metadata": {},
     "output_type": "execute_result"
    }
   ],
   "source": [
    "arr = np.array([[3,5,0,-7],[1,2,3,4]])\n",
    "arr[arr%2 == 1] = -1\n",
    "arr\n",
    "# replace_odd(arr)"
   ]
  },
  {
   "cell_type": "code",
   "execution_count": 387,
   "id": "41d33eb5",
   "metadata": {},
   "outputs": [],
   "source": [
    "def p2p_distance(input):\n",
    "#     distance = np.zeros((len(input),len(input)))\n",
    "    print(input)\n",
    "\n",
    "#     distance = np.array(input)\n",
    "#     distance = np.append(distance,input*10)\n",
    "#     distance = np.append(distance,input*100)\n",
    "#     distance = distance.reshape((3,3,2))\n",
    "#     print(distance,\" new \",distance[0][0][0])\n",
    "    x = np.array((1,2))\n",
    "    y = np.array((3,4))\n",
    "    print(np.linalg.norm(x-y), \"  \", input[0])\n",
    "#     for i in range(len(input)):\n",
    "#         for j in range(len(input)):\n",
    "#             print(input[i][j])\n",
    "#             distance = \n",
    "#     input = np.array(input.T)\n",
    "#     x = np.array(input[0,0:len(input.T)]).reshape(len(input.T),1)\n",
    "#     y = np.array(input[1,0:len(input.T)] ).reshape(len(input.T),1)\n",
    "#     dist = np.square(np.add(x,(-1)*y))\n",
    "\n",
    "#     print(x,\" \",y,\" \" ,dist,\" \", x-y , distince,\" \" ,input)\n"
   ]
  },
  {
   "cell_type": "code",
   "execution_count": 388,
   "id": "4ae29fa5",
   "metadata": {},
   "outputs": [
    {
     "name": "stdout",
     "output_type": "stream",
     "text": [
      "[[1 2]\n",
      " [3 4]\n",
      " [5 6]]\n",
      "2.8284271247461903    [1 2]\n"
     ]
    }
   ],
   "source": [
    "arr  = np.array([[1,2],[3,4],[5,6]])\n",
    "input = arr\n",
    "p2p_distance(arr)"
   ]
  },
  {
   "cell_type": "code",
   "execution_count": null,
   "id": "bdf549c8",
   "metadata": {},
   "outputs": [],
   "source": []
  },
  {
   "cell_type": "code",
   "execution_count": null,
   "id": "fa9a3be4",
   "metadata": {},
   "outputs": [],
   "source": []
  }
 ],
 "metadata": {
  "kernelspec": {
   "display_name": "Python 3",
   "language": "python",
   "name": "python3"
  },
  "language_info": {
   "codemirror_mode": {
    "name": "ipython",
    "version": 3
   },
   "file_extension": ".py",
   "mimetype": "text/x-python",
   "name": "python",
   "nbconvert_exporter": "python",
   "pygments_lexer": "ipython3",
   "version": "3.8.8"
  }
 },
 "nbformat": 4,
 "nbformat_minor": 5
}
